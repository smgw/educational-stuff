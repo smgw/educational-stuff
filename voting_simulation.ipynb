{
 "cells": [
  {
   "cell_type": "code",
   "execution_count": 1,
   "id": "514775f5",
   "metadata": {},
   "outputs": [],
   "source": [
    "import numpy as np\n",
    "import pandas as pd\n",
    "import math\n",
    "import random as rd\n",
    "from random import shuffle"
   ]
  },
  {
   "cell_type": "code",
   "execution_count": 2,
   "id": "ccd3c9ea",
   "metadata": {},
   "outputs": [
    {
     "name": "stdout",
     "output_type": "stream",
     "text": [
      "{'a', 'b', 'd', 'e', 'c'}\n"
     ]
    }
   ],
   "source": [
    "# first, define a finite set of alternatives\n",
    "Alt = {'a','b','c','d','e'}\n",
    "print(Alt)\n",
    "#Alt.add('5')\n",
    "#print(Alt)"
   ]
  },
  {
   "cell_type": "code",
   "execution_count": 3,
   "id": "4dfdc4b3",
   "metadata": {},
   "outputs": [],
   "source": [
    "# second, let us define a function capable of generating binary relations\n",
    "# which does not contain symmetricity \n",
    "def binary_relation(A) : # A is to be a set\n",
    "    AA = A.copy()\n",
    "    result = set()\n",
    "    for i in AA : \n",
    "        AAA = AA.copy()\n",
    "        AAA.remove(i)\n",
    "        for j in AAA:\n",
    "            if rd.uniform(0,1) > 0.7:\n",
    "                result.add((i,j))\n",
    "            else : \n",
    "                continue\n",
    "\n",
    "    result2 = result.copy()\n",
    "    for m in result :\n",
    "        for n in result:\n",
    "            if m[1] == n[0] : \n",
    "                result2.add((m[0],n[1]))\n",
    "            elif m[0] == n[1] :\n",
    "                result2.add((n[0],m[1]))\n",
    "    result3 = result2.copy()\n",
    "    for k in result2 :\n",
    "        for l in result2:\n",
    "            if k[0]==l[1] and k[1]==l[0] :\n",
    "                result3.remove(k)\n",
    "    return result3"
   ]
  },
  {
   "cell_type": "markdown",
   "id": "4de6d9f1",
   "metadata": {},
   "source": [
    "# input : voters' preference relations: as a list\n",
    "# output : the selected candidate\n",
    "# assumption : every preference is linear "
   ]
  },
  {
   "cell_type": "code",
   "execution_count": 4,
   "id": "26dd94b1",
   "metadata": {},
   "outputs": [],
   "source": [
    "def linear_binary_relation(A) : # A: set as well \n",
    "    # generates a linear binary relation, as a list\n",
    "    # this is under developement. so far it acts as a simply random shuffle\n",
    "    AA = A.copy()\n",
    "    AAA = list(AA)\n",
    "    shuffle(AAA)\n",
    "    return AAA"
   ]
  },
  {
   "cell_type": "code",
   "execution_count": 5,
   "id": "14b59828",
   "metadata": {},
   "outputs": [
    {
     "data": {
      "text/plain": [
       "['a', 'c', 'e', 'b', 'd']"
      ]
     },
     "execution_count": 5,
     "metadata": {},
     "output_type": "execute_result"
    }
   ],
   "source": [
    "linear_binary_relation(Alt)"
   ]
  },
  {
   "cell_type": "code",
   "execution_count": 6,
   "id": "62ef2b3f",
   "metadata": {},
   "outputs": [],
   "source": [
    "def top_scoreing2(D):  # D is a dictionary. keys ; candidates, vals; score\n",
    "    # returns a pair ; key, val. whose val is the top \n",
    "    L = []\n",
    "    for i in D.keys():\n",
    "        L.append([i,D[i]])\n",
    "    rk = L[0][0] ; rv = L[0][1]\n",
    "    for j in L :\n",
    "        d = rv - j[1]\n",
    "        if rv< j[1] :\n",
    "            rk = j[0] ; rv=j[1]\n",
    "    return rk,rv"
   ]
  },
  {
   "cell_type": "code",
   "execution_count": 7,
   "id": "a6bc3c54",
   "metadata": {},
   "outputs": [],
   "source": [
    "# 1) simple majority voting \n",
    "def smv(V, A): # V : voters' preference; 2-dim list, A : candidates' set\n",
    "    x = {} # dictionary\n",
    "    for i in A : \n",
    "        x[i] = 0\n",
    "    for i in A:\n",
    "        for j in V:\n",
    "            if j[0] is i:  # if the top is i for the agent number j\n",
    "                x[i] = x[i]+1\n",
    "#    print(x)\n",
    "    return x, (top_scoreing2(x))"
   ]
  },
  {
   "cell_type": "code",
   "execution_count": 8,
   "id": "3b6c8931",
   "metadata": {},
   "outputs": [],
   "source": [
    "vv = [linear_binary_relation(Alt) for i in range(0,50)]\n",
    "\n",
    "#print(vv)"
   ]
  },
  {
   "cell_type": "code",
   "execution_count": 9,
   "id": "89736263",
   "metadata": {},
   "outputs": [
    {
     "name": "stdout",
     "output_type": "stream",
     "text": [
      "{'a': 6, 'b': 6, 'd': 6, 'e': 18, 'c': 14} ('e', 18)\n"
     ]
    }
   ],
   "source": [
    "aa,bb = smv(vv,Alt)\n",
    "print(aa,bb)"
   ]
  },
  {
   "cell_type": "code",
   "execution_count": 10,
   "id": "e6ac4a08",
   "metadata": {},
   "outputs": [],
   "source": [
    "# 2) the Decisive vote \n",
    "# given a list of linear preferenes, first vote decides the top and the second.  then the top 2 is to be voted again as a final decision \n",
    "# preferenes of the players are supposed not changed in these two votes (is it practical ?)"
   ]
  },
  {
   "cell_type": "code",
   "execution_count": 11,
   "id": "c2ae1a37",
   "metadata": {},
   "outputs": [],
   "source": [
    "def top_and_second(V,A) : # V : voters' preference; 2-dim list, A : candidates' set\n",
    "    a,b = smv(V,A) # a is a dictionary, b ; top\n",
    "    c = a.pop(b[0])\n",
    "    sec = top_scoreing2(a)\n",
    "    return b,sec"
   ]
  },
  {
   "cell_type": "code",
   "execution_count": 12,
   "id": "2c75b6f3",
   "metadata": {},
   "outputs": [],
   "source": [
    "def 一位と二位(V,A) : # V : voters' preference; 2-dim list, A : candidates' set\n",
    "    a,b = smv(V,A) # a is a dictionary, b ; top\n",
    "    c = a.pop(b[0])\n",
    "    sec = top_scoreing2(a)\n",
    "    return b,sec"
   ]
  },
  {
   "cell_type": "code",
   "execution_count": 13,
   "id": "80749850",
   "metadata": {},
   "outputs": [
    {
     "name": "stdout",
     "output_type": "stream",
     "text": [
      "('e', 18) ('c', 14)\n"
     ]
    }
   ],
   "source": [
    "#vv = [linear_binary_relation(Alt) for i in range(0,400)]\n",
    "#aaa,bbb = top_and_second(vv,Alt) \n",
    "aaa,bbb = 一位と二位(vv,Alt) \n",
    "\n",
    "print(aaa,bbb)"
   ]
  },
  {
   "cell_type": "code",
   "execution_count": 14,
   "id": "6e9cc27c",
   "metadata": {},
   "outputs": [],
   "source": [
    "def find_index(L,a) : # L : list, a, an element of the list\n",
    "    n=0\n",
    "    for i in L :\n",
    "        if a != i : \n",
    "            n=n+1\n",
    "        else :\n",
    "            break\n",
    "    return n"
   ]
  },
  {
   "cell_type": "code",
   "execution_count": 15,
   "id": "c218dcb1",
   "metadata": {},
   "outputs": [],
   "source": [
    "def is_prefered(T,L): # T : a 2-tuple, L : a list of candidates\n",
    "    # returns Boolean value, if T[0]> T[1] then True, else False\n",
    "    if find_index(L,T[0]) < find_index(L,T[1]):\n",
    "        return True\n",
    "    else:\n",
    "        return False"
   ]
  },
  {
   "cell_type": "code",
   "execution_count": 16,
   "id": "cef77c63",
   "metadata": {},
   "outputs": [],
   "source": [
    "def binary_vote(T,V): # T ; 2-tuple, V ; list of voters' preferences\n",
    "    p = len(V)\n",
    "    nn = 0\n",
    "    for i in range(0,p):\n",
    "        if is_prefered(T,V[i]) :\n",
    "            nn = nn+1\n",
    "    return ( (T[0], nn), (T[1], p - nn) )"
   ]
  },
  {
   "cell_type": "code",
   "execution_count": 17,
   "id": "3970dff0",
   "metadata": {},
   "outputs": [
    {
     "name": "stdout",
     "output_type": "stream",
     "text": [
      "(('d', 12), ('a', 11))\n",
      "(('d', 21), ('a', 29))\n"
     ]
    }
   ],
   "source": [
    "# experiment .....\n",
    "\n",
    "vv = [linear_binary_relation(Alt) for i in range(0,50)]\n",
    "tt,uu = top_and_second(vv,Alt)\n",
    "ss = (tt,uu)\n",
    "print(ss)\n",
    "xx = binary_vote((ss[0][0],ss[1][0]),vv)\n",
    "print(xx)"
   ]
  },
  {
   "cell_type": "code",
   "execution_count": 18,
   "id": "2c608142",
   "metadata": {},
   "outputs": [],
   "source": [
    "#vv"
   ]
  },
  {
   "cell_type": "code",
   "execution_count": 19,
   "id": "da2a613a",
   "metadata": {},
   "outputs": [],
   "source": [
    "# 3) pairwise valuation : \n",
    "# first we need to generate a list of pairwise keys to build dictionary"
   ]
  },
  {
   "cell_type": "code",
   "execution_count": 20,
   "id": "87d16f70",
   "metadata": {},
   "outputs": [],
   "source": [
    "def gen_pairs(A) : # A is a candidates' set\n",
    "    # generates the list of all pairs on A\n",
    "    AA = A.copy()\n",
    "    AAA = list(AA)\n",
    "    result = []\n",
    "    for i in range(0,len(AAA)):\n",
    "        for j in range(i+1,len(AAA)):\n",
    "            result.append((AAA[i],AAA[j]))\n",
    "    return result"
   ]
  },
  {
   "cell_type": "code",
   "execution_count": 21,
   "id": "2391e49c",
   "metadata": {},
   "outputs": [],
   "source": [
    "AltList = list(Alt)"
   ]
  },
  {
   "cell_type": "code",
   "execution_count": 22,
   "id": "478bbb35",
   "metadata": {},
   "outputs": [],
   "source": [
    "# then, generate a dictionary of pairwise comparison: the numbers of left > right\n",
    "def pairwise_score(V,A) : # V : voters' preference; 2-dim list, A : candidates' set\n",
    "    PA = gen_pairs(A) # PA is a list of pairs on A\n",
    "    result = {}\n",
    "    for i in PA : \n",
    "        sc = 0\n",
    "        for j in V :\n",
    "            if is_prefered(i,j):\n",
    "                sc = sc+1\n",
    "        result[i]=sc\n",
    "    return result    "
   ]
  },
  {
   "cell_type": "code",
   "execution_count": 23,
   "id": "1b826e0e",
   "metadata": {},
   "outputs": [
    {
     "name": "stdout",
     "output_type": "stream",
     "text": [
      "{('a', 'b'): 25, ('a', 'd'): 29, ('a', 'e'): 33, ('a', 'c'): 27, ('b', 'd'): 26, ('b', 'e'): 28, ('b', 'c'): 23, ('d', 'e'): 28, ('d', 'c'): 25, ('e', 'c'): 20}\n"
     ]
    }
   ],
   "source": [
    "r = pairwise_score(vv,Alt)\n",
    "print(r)"
   ]
  },
  {
   "cell_type": "code",
   "execution_count": 24,
   "id": "04d82687",
   "metadata": {},
   "outputs": [],
   "source": [
    "# next, generate # of binary win's for each candidate\n",
    "def pairwise_win(V,A):\n",
    "    # V : voters' preference\n",
    "    # A : candidates' set\n",
    "    ps = pairwise_score(V,A)\n",
    "    out = {}\n",
    "    for i in ps.keys():\n",
    "        if ps[i]<len(V)/2 :\n",
    "            k = (i[1],i[0])\n",
    "            s = len(V)-ps[i]\n",
    "            out[k]=s\n",
    "        else:\n",
    "            out[i]=ps[i]\n",
    "    return out"
   ]
  },
  {
   "cell_type": "code",
   "execution_count": 25,
   "id": "8d279dcd",
   "metadata": {},
   "outputs": [],
   "source": [
    "# Borda rule\n",
    "def candidates_score(P,A):\n",
    "    # P : a preference over A(candidates). must be a list of A\n",
    "    x = P.copy()\n",
    "    n = len(A)\n",
    "    out = {}\n",
    "    for i in range(0,n):\n",
    "        a = x.pop(0)\n",
    "        out[a] = n-i\n",
    "    return out\n",
    "\n",
    "def borda_scores(V,A) :\n",
    "    # V : preferences of voters, A : candidates\n",
    "    out = {}\n",
    "    counter=0\n",
    "    for i in range(len(V)):\n",
    "        out[i] = candidates_score(V[i],A)\n",
    "    #return out\n",
    "    out2 = {}\n",
    "    for a in A :\n",
    "        out2[a]=0\n",
    "        for j in out.keys():\n",
    "            out2[a] = out2[a] + out[j][a]\n",
    "    return out2"
   ]
  },
  {
   "cell_type": "code",
   "execution_count": 26,
   "id": "ed67249d",
   "metadata": {},
   "outputs": [],
   "source": [
    "def borda_winner(V,A) :\n",
    "    # outputs the winner in Borda rule over the preferences V\n",
    "    X = borda_scores(V,A)\n",
    "    c = 0\n",
    "    for i in X.keys():\n",
    "        if X[i] >= c :\n",
    "            winner = i\n",
    "            c = X[i]\n",
    "        else :\n",
    "            continue\n",
    "    return winner,c"
   ]
  },
  {
   "cell_type": "code",
   "execution_count": 27,
   "id": "04dc8426",
   "metadata": {},
   "outputs": [],
   "source": [
    "def erase_loser(V,A,x): \n",
    "    # V : preference relations\n",
    "    # x : the candidate to erase\n",
    "    n = len(V[0])\n",
    "    VV = []\n",
    "    for i in range(0,len(V)):\n",
    "        VVV=[]\n",
    "        for j in range(0,n):\n",
    "            if V[i][j] == x :\n",
    "                continue\n",
    "            VVV.append(V[i][j])\n",
    "        VV.append(VVV)\n",
    "    A.remove(x)\n",
    "    return VV,A"
   ]
  },
  {
   "cell_type": "code",
   "execution_count": 28,
   "id": "b1893cc5",
   "metadata": {},
   "outputs": [],
   "source": [
    "def find_pairwise_loser(V,A): # UNDER CONSTRUCTION\n",
    "    # findout the pairwise loser among A\n",
    "    # policy 1 ; the loser against all of the rest should be chosen\n",
    "    # policy 2 ; if the numbers of losing are the same among candidate i and j, then \n",
    "    #   choose candidate who's total losing number is bigger than that of another. \n",
    "    pw = pairwise_win(V,A)\n",
    "    a = {}\n",
    "    for i in A :\n",
    "        a[i] = 0\n",
    "        for j in pw.keys() :\n",
    "            if j[1] == i :\n",
    "                a[i] = a[i]+1\n",
    "            else :\n",
    "                continue\n",
    "    aa = a.copy()\n",
    "    for i in aa.keys():\n",
    "        for j in aa.keys():\n",
    "            if i==j:\n",
    "                continue\n",
    "            if aa[i]>aa[j]:\n",
    "                aa[j]=0\n",
    "    aaa = aa.copy()\n",
    "    for i in aa.keys():\n",
    "        if aaa[i] == 0:\n",
    "            aaa.pop(i)\n",
    "    return aaa"
   ]
  },
  {
   "cell_type": "code",
   "execution_count": 29,
   "id": "3cb0c4d8",
   "metadata": {},
   "outputs": [
    {
     "name": "stdout",
     "output_type": "stream",
     "text": [
      "top and second: (('d', 9), ('e', 8))\n",
      "pairwise-winning numbers between top-second :  (('d', 14), ('e', 17))\n",
      "Borda scoreing winner(w. score): ('e', 122)\n",
      "pairwise loser(s)(w. # of losing times) {'a': 5}\n"
     ]
    }
   ],
   "source": [
    "# experiment 2 .....\n",
    "Alt = {'a','b','c','d','e','f'}\n",
    "vv = [linear_binary_relation(Alt) for i in range(0,31)]\n",
    "tt,uu = top_and_second(vv,Alt)\n",
    "ss = (tt,uu)\n",
    "print('top and second:',ss)\n",
    "xx = binary_vote((ss[0][0],ss[1][0]),vv)\n",
    "print('pairwise-winning numbers between top-second : ',xx)\n",
    "\n",
    "print('Borda scoreing winner(w. score):',borda_winner(vv,Alt))\n",
    "\n",
    "print('pairwise loser(s)(w. # of losing times)',find_pairwise_loser(vv,Alt))"
   ]
  },
  {
   "cell_type": "code",
   "execution_count": 74,
   "id": "7b3b439d",
   "metadata": {},
   "outputs": [
    {
     "data": {
      "text/html": [
       "<div>\n",
       "<style scoped>\n",
       "    .dataframe tbody tr th:only-of-type {\n",
       "        vertical-align: middle;\n",
       "    }\n",
       "\n",
       "    .dataframe tbody tr th {\n",
       "        vertical-align: top;\n",
       "    }\n",
       "\n",
       "    .dataframe thead th {\n",
       "        text-align: right;\n",
       "    }\n",
       "</style>\n",
       "<table border=\"1\" class=\"dataframe\">\n",
       "  <thead>\n",
       "    <tr style=\"text-align: right;\">\n",
       "      <th></th>\n",
       "      <th>top and second:</th>\n",
       "      <th>pairwise-winning numbers between top-second :</th>\n",
       "      <th>Borda scoreing winner(w. score):</th>\n",
       "      <th>pairwise loser(s)</th>\n",
       "    </tr>\n",
       "  </thead>\n",
       "  <tbody>\n",
       "    <tr>\n",
       "      <th>0</th>\n",
       "      <td>((a, 10), (e, 5))</td>\n",
       "      <td>((a, 18), (e, 13))</td>\n",
       "      <td>(a, 115)</td>\n",
       "      <td>{'b': 5}</td>\n",
       "    </tr>\n",
       "    <tr>\n",
       "      <th>1</th>\n",
       "      <td>((e, 8), (d, 6))</td>\n",
       "      <td>((e, 15), (d, 16))</td>\n",
       "      <td>(c, 119)</td>\n",
       "      <td>{'b': 4}</td>\n",
       "    </tr>\n",
       "    <tr>\n",
       "      <th>2</th>\n",
       "      <td>((d, 7), (b, 6))</td>\n",
       "      <td>((d, 16), (b, 15))</td>\n",
       "      <td>(b, 115)</td>\n",
       "      <td>{'a': 4, 'e': 4}</td>\n",
       "    </tr>\n",
       "    <tr>\n",
       "      <th>3</th>\n",
       "      <td>((d, 9), (c, 6))</td>\n",
       "      <td>((d, 22), (c, 9))</td>\n",
       "      <td>(d, 138)</td>\n",
       "      <td>{'e': 4, 'c': 4}</td>\n",
       "    </tr>\n",
       "    <tr>\n",
       "      <th>4</th>\n",
       "      <td>((a, 7), (e, 7))</td>\n",
       "      <td>((a, 16), (e, 15))</td>\n",
       "      <td>(c, 123)</td>\n",
       "      <td>{'d': 5}</td>\n",
       "    </tr>\n",
       "    <tr>\n",
       "      <th>...</th>\n",
       "      <td>...</td>\n",
       "      <td>...</td>\n",
       "      <td>...</td>\n",
       "      <td>...</td>\n",
       "    </tr>\n",
       "    <tr>\n",
       "      <th>195</th>\n",
       "      <td>((a, 11), (d, 6))</td>\n",
       "      <td>((a, 16), (d, 15))</td>\n",
       "      <td>(a, 123)</td>\n",
       "      <td>{'e': 5}</td>\n",
       "    </tr>\n",
       "    <tr>\n",
       "      <th>196</th>\n",
       "      <td>((d, 8), (a, 5))</td>\n",
       "      <td>((d, 19), (a, 12))</td>\n",
       "      <td>(d, 121)</td>\n",
       "      <td>{'b': 5}</td>\n",
       "    </tr>\n",
       "    <tr>\n",
       "      <th>197</th>\n",
       "      <td>((c, 10), (d, 6))</td>\n",
       "      <td>((c, 19), (d, 12))</td>\n",
       "      <td>(c, 127)</td>\n",
       "      <td>{'f': 5}</td>\n",
       "    </tr>\n",
       "    <tr>\n",
       "      <th>198</th>\n",
       "      <td>((a, 7), (d, 7))</td>\n",
       "      <td>((a, 13), (d, 18))</td>\n",
       "      <td>(c, 112)</td>\n",
       "      <td>{'f': 4}</td>\n",
       "    </tr>\n",
       "    <tr>\n",
       "      <th>199</th>\n",
       "      <td>((f, 8), (d, 7))</td>\n",
       "      <td>((f, 19), (d, 12))</td>\n",
       "      <td>(f, 121)</td>\n",
       "      <td>{'a': 4, 'b': 4, 'c': 4}</td>\n",
       "    </tr>\n",
       "  </tbody>\n",
       "</table>\n",
       "<p>200 rows × 4 columns</p>\n",
       "</div>"
      ],
      "text/plain": [
       "       top and second: pairwise-winning numbers between top-second :  \\\n",
       "0    ((a, 10), (e, 5))                            ((a, 18), (e, 13))   \n",
       "1     ((e, 8), (d, 6))                            ((e, 15), (d, 16))   \n",
       "2     ((d, 7), (b, 6))                            ((d, 16), (b, 15))   \n",
       "3     ((d, 9), (c, 6))                             ((d, 22), (c, 9))   \n",
       "4     ((a, 7), (e, 7))                            ((a, 16), (e, 15))   \n",
       "..                 ...                                           ...   \n",
       "195  ((a, 11), (d, 6))                            ((a, 16), (d, 15))   \n",
       "196   ((d, 8), (a, 5))                            ((d, 19), (a, 12))   \n",
       "197  ((c, 10), (d, 6))                            ((c, 19), (d, 12))   \n",
       "198   ((a, 7), (d, 7))                            ((a, 13), (d, 18))   \n",
       "199   ((f, 8), (d, 7))                            ((f, 19), (d, 12))   \n",
       "\n",
       "    Borda scoreing winner(w. score):         pairwise loser(s)  \n",
       "0                           (a, 115)                  {'b': 5}  \n",
       "1                           (c, 119)                  {'b': 4}  \n",
       "2                           (b, 115)          {'a': 4, 'e': 4}  \n",
       "3                           (d, 138)          {'e': 4, 'c': 4}  \n",
       "4                           (c, 123)                  {'d': 5}  \n",
       "..                               ...                       ...  \n",
       "195                         (a, 123)                  {'e': 5}  \n",
       "196                         (d, 121)                  {'b': 5}  \n",
       "197                         (c, 127)                  {'f': 5}  \n",
       "198                         (c, 112)                  {'f': 4}  \n",
       "199                         (f, 121)  {'a': 4, 'b': 4, 'c': 4}  \n",
       "\n",
       "[200 rows x 4 columns]"
      ]
     },
     "execution_count": 74,
     "metadata": {},
     "output_type": "execute_result"
    }
   ],
   "source": [
    "# repeated experiment : 2\n",
    "Alt = {'a','b','c','d','e','f'}\n",
    "result = {}\n",
    "result['top and second:']=[]\n",
    "result['pairwise-winning numbers between top-second :'] = []\n",
    "result['Borda scoreing winner(w. score):'] = []\n",
    "result['pairwise loser(s)'] = []\n",
    "\n",
    "# num. of experiment times\n",
    "nexp = 200\n",
    "# voters' number\n",
    "vn = 31\n",
    "\n",
    "for i in range(0,nexp):\n",
    "    vv = [linear_binary_relation(Alt) for i in range(0,vn)]\n",
    "    tt,uu = top_and_second(vv,Alt)\n",
    "    ss = (tt,uu)\n",
    "    xx = binary_vote((ss[0][0],ss[1][0]),vv)\n",
    "    result['top and second:'].append(ss)\n",
    "    result['pairwise-winning numbers between top-second :'].append(xx)\n",
    "    result['Borda scoreing winner(w. score):'].append(borda_winner(vv,Alt))\n",
    "    result['pairwise loser(s)'].append(find_pairwise_loser(vv,Alt))\n",
    "pd.set_option('display.max_rows', 30)\n",
    "pd.DataFrame(result)"
   ]
  },
  {
   "cell_type": "code",
   "execution_count": 75,
   "id": "9b725176",
   "metadata": {},
   "outputs": [],
   "source": [
    "df_result.to_csv('kyouyou_jikken.csv', encoding='utf-8')"
   ]
  },
  {
   "cell_type": "code",
   "execution_count": 34,
   "id": "b1662500",
   "metadata": {},
   "outputs": [],
   "source": [
    "import csv"
   ]
  },
  {
   "cell_type": "code",
   "execution_count": 78,
   "id": "f8a90839",
   "metadata": {},
   "outputs": [],
   "source": [
    "# repeated experiment : 2-2\n",
    "Alt = {'a','b','c','d','e','f'}\n",
    "result = []\n",
    "\n",
    "fields = ['no:','top and second:','pairwise-winning numbers between top-second :','Borda scoreing winner(w. score):','pairwise loser(s)']\n",
    "\n",
    "# num. of experiment times\n",
    "nexp = 300\n",
    "# voters' number\n",
    "vn = 31\n",
    "\n",
    "for i in range(0,nexp):\n",
    "    r = {}\n",
    "    vv = [linear_binary_relation(Alt) for i in range(0,vn)]\n",
    "    r['no:']=i+1\n",
    "    tt,uu = top_and_second(vv,Alt)\n",
    "    ss = (tt,uu)\n",
    "    r['top and second:'] = ss\n",
    "    xx = binary_vote((ss[0][0],ss[1][0]),vv)\n",
    "    r['pairwise-winning numbers between top-second :'] = xx\n",
    "    r['Borda scoreing winner(w. score):'] = borda_winner(vv,Alt)\n",
    "    r['pairwise loser(s)'] = find_pairwise_loser(vv,Alt)\n",
    "    result.append(r)"
   ]
  },
  {
   "cell_type": "code",
   "execution_count": 79,
   "id": "9a518f20",
   "metadata": {},
   "outputs": [],
   "source": [
    "#result\n",
    "csv_file = \"experiment2.csv\"\n",
    "try:\n",
    "    with open(csv_file, 'w') as csvfile:\n",
    "        writer = csv.DictWriter(csvfile, fieldnames=fields)\n",
    "        writer.writeheader()\n",
    "        for data in result:\n",
    "            writer.writerow(data)\n",
    "except IOError:\n",
    "    print(\"I/O error\")"
   ]
  },
  {
   "cell_type": "code",
   "execution_count": 269,
   "id": "be163e85",
   "metadata": {},
   "outputs": [],
   "source": [
    "#find_pairwise_loser(vv,Alt)"
   ]
  },
  {
   "cell_type": "code",
   "execution_count": 215,
   "id": "7f0c4710",
   "metadata": {},
   "outputs": [
    {
     "data": {
      "text/plain": [
       "{('c', 'a'): 16,\n",
       " ('a', 'f'): 17,\n",
       " ('b', 'a'): 16,\n",
       " ('a', 'e'): 19,\n",
       " ('a', 'd'): 21,\n",
       " ('c', 'f'): 19,\n",
       " ('c', 'b'): 17,\n",
       " ('c', 'e'): 17,\n",
       " ('c', 'd'): 18,\n",
       " ('b', 'f'): 18,\n",
       " ('f', 'e'): 17,\n",
       " ('f', 'd'): 16,\n",
       " ('b', 'e'): 19,\n",
       " ('b', 'd'): 18,\n",
       " ('e', 'd'): 20}"
      ]
     },
     "execution_count": 215,
     "metadata": {},
     "output_type": "execute_result"
    }
   ],
   "source": [
    "pairwise_win(vv,Alt)"
   ]
  },
  {
   "cell_type": "code",
   "execution_count": 112,
   "id": "9f648d04",
   "metadata": {},
   "outputs": [],
   "source": [
    "vv,Alt = erase_loser(vv,Alt,'e')"
   ]
  },
  {
   "cell_type": "code",
   "execution_count": 115,
   "id": "136bcfa7",
   "metadata": {},
   "outputs": [
    {
     "name": "stdout",
     "output_type": "stream",
     "text": [
      "(('d', 15), ('a', 14))\n",
      "(('d', 26), ('a', 24))\n"
     ]
    },
    {
     "data": {
      "text/plain": [
       "('c', 129)"
      ]
     },
     "execution_count": 115,
     "metadata": {},
     "output_type": "execute_result"
    }
   ],
   "source": [
    "# experiment 3\n",
    "tt,uu = top_and_second(vv,Alt)\n",
    "ss = (tt,uu)\n",
    "print(ss)\n",
    "xx = binary_vote((ss[0][0],ss[1][0]),vv)\n",
    "print(xx)\n",
    "\n",
    "borda_winner(vv,Alt)"
   ]
  },
  {
   "cell_type": "code",
   "execution_count": 116,
   "id": "1e44b5b3",
   "metadata": {},
   "outputs": [
    {
     "data": {
      "text/plain": [
       "{('a', 'c'): 26,\n",
       " ('d', 'a'): 26,\n",
       " ('b', 'a'): 26,\n",
       " ('c', 'd'): 28,\n",
       " ('c', 'b'): 27,\n",
       " ('d', 'b'): 25}"
      ]
     },
     "execution_count": 116,
     "metadata": {},
     "output_type": "execute_result"
    }
   ],
   "source": [
    "pairwise_win(vv,Alt)"
   ]
  },
  {
   "cell_type": "code",
   "execution_count": 117,
   "id": "53c6007d",
   "metadata": {},
   "outputs": [],
   "source": [
    "vv,Alt = erase_loser(vv,Alt,'a')"
   ]
  },
  {
   "cell_type": "code",
   "execution_count": 118,
   "id": "8157466b",
   "metadata": {},
   "outputs": [
    {
     "name": "stdout",
     "output_type": "stream",
     "text": [
      "(('c', 18), ('d', 17))\n",
      "(('c', 28), ('d', 22))\n"
     ]
    },
    {
     "data": {
      "text/plain": [
       "('c', 105)"
      ]
     },
     "execution_count": 118,
     "metadata": {},
     "output_type": "execute_result"
    }
   ],
   "source": [
    "# experiment 4\n",
    "tt,uu = top_and_second(vv,Alt)\n",
    "ss = (tt,uu)\n",
    "print(ss)\n",
    "xx = binary_vote((ss[0][0],ss[1][0]),vv)\n",
    "print(xx)\n",
    "\n",
    "borda_winner(vv,Alt)"
   ]
  },
  {
   "cell_type": "code",
   "execution_count": 119,
   "id": "9b61f30c",
   "metadata": {},
   "outputs": [
    {
     "data": {
      "text/plain": [
       "{('c', 'd'): 28, ('d', 'b'): 25, ('c', 'b'): 27}"
      ]
     },
     "execution_count": 119,
     "metadata": {},
     "output_type": "execute_result"
    }
   ],
   "source": [
    "pairwise_win(vv,Alt)"
   ]
  },
  {
   "cell_type": "code",
   "execution_count": 120,
   "id": "dcc95c18",
   "metadata": {},
   "outputs": [],
   "source": [
    "vv,Alt = erase_loser(vv,Alt,'b')"
   ]
  },
  {
   "cell_type": "code",
   "execution_count": 121,
   "id": "e229b6c0",
   "metadata": {},
   "outputs": [
    {
     "name": "stdout",
     "output_type": "stream",
     "text": [
      "(('c', 28), ('d', 22))\n",
      "(('c', 28), ('d', 22))\n"
     ]
    },
    {
     "data": {
      "text/plain": [
       "('c', 78)"
      ]
     },
     "execution_count": 121,
     "metadata": {},
     "output_type": "execute_result"
    }
   ],
   "source": [
    "# experiment 5\n",
    "tt,uu = top_and_second(vv,Alt)\n",
    "ss = (tt,uu)\n",
    "print(ss)\n",
    "xx = binary_vote((ss[0][0],ss[1][0]),vv)\n",
    "print(xx)\n",
    "\n",
    "borda_winner(vv,Alt)"
   ]
  },
  {
   "cell_type": "code",
   "execution_count": 122,
   "id": "68a47275",
   "metadata": {},
   "outputs": [
    {
     "data": {
      "text/plain": [
       "{('c', 'd'): 28}"
      ]
     },
     "execution_count": 122,
     "metadata": {},
     "output_type": "execute_result"
    }
   ],
   "source": [
    "pairwise_win(vv,Alt)"
   ]
  },
  {
   "cell_type": "code",
   "execution_count": null,
   "id": "de4bfecb",
   "metadata": {},
   "outputs": [],
   "source": [
    "# coalition : how to implement ??\n",
    "#xxx = np.array([])\n",
    "#type(xxx)\n",
    "#Alt = {'a','b','c','d','e'}\n",
    "# 1) top nth is to be fixed\n",
    "C1 = [['a','b','c','',''],\n",
    "      ['d','e','','',''],\n",
    "      ['c','d','','','']\n",
    "     ]\n",
    "# 2) bottom nth is to be fixed \n",
    "C2 = [['','','','b','a' ],\n",
    "      ['','','d','e','c'],\n",
    "      ['','','','c','d']\n",
    "     ]\n",
    "# 3) part of the order is fixed \n",
    "C3 = [['e','d','a'],\n",
    "      ['c','b','e']\n",
    "     ]"
   ]
  },
  {
   "cell_type": "code",
   "execution_count": null,
   "id": "1f82d94b",
   "metadata": {},
   "outputs": [],
   "source": [
    "aaaa=['a','b','c']\n",
    "aaaa.remove('c')"
   ]
  },
  {
   "cell_type": "code",
   "execution_count": null,
   "id": "b466ffa7",
   "metadata": {},
   "outputs": [],
   "source": [
    "def diff(f, s): # implementation of \"diff\"\n",
    "    ss = set(s)\n",
    "    return [i for i in f if i not in ss]"
   ]
  },
  {
   "cell_type": "code",
   "execution_count": null,
   "id": "8e449a98",
   "metadata": {},
   "outputs": [],
   "source": [
    "#rrr=diff(Alt,C1[0])"
   ]
  },
  {
   "cell_type": "code",
   "execution_count": null,
   "id": "8e175158",
   "metadata": {},
   "outputs": [],
   "source": [
    "A=Alt.copy()\n",
    "diff(list(A),aaaa)"
   ]
  },
  {
   "cell_type": "code",
   "execution_count": 30,
   "id": "7d1c862d",
   "metadata": {},
   "outputs": [],
   "source": [
    "def generate_top_n(C,A): # C is the coalition definition, A is the candidates' set\n",
    "    # T is the coalition lists \n",
    "    j = 0\n",
    "    AA = A.copy()\n",
    "    AAA=list(AA)\n",
    "    shuffle(AAA)\n",
    "    r = []\n",
    "    j=0\n",
    "    for i in AA:\n",
    "        if i == C[j]:\n",
    "            r.append(i)\n",
    "            AAA.remove(i)\n",
    "            j=j+1\n",
    "    return r\n",
    "            "
   ]
  },
  {
   "cell_type": "code",
   "execution_count": 31,
   "id": "b997b800",
   "metadata": {},
   "outputs": [],
   "source": [
    "generate_top_n(C1[0],Alt)"
   ]
  }
 ],
 "metadata": {
  "kernelspec": {
   "display_name": "Python 3 (ipykernel)",
   "language": "python",
   "name": "python3"
  },
  "language_info": {
   "codemirror_mode": {
    "name": "ipython",
    "version": 3
   },
   "file_extension": ".py",
   "mimetype": "text/x-python",
   "name": "python",
   "nbconvert_exporter": "python",
   "pygments_lexer": "ipython3",
   "version": "3.11.2"
  }
 },
 "nbformat": 4,
 "nbformat_minor": 5
}
