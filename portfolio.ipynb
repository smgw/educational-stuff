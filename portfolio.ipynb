{
 "cells": [
  {
   "cell_type": "markdown",
   "id": "aa2487a8",
   "metadata": {},
   "source": [
    "## portfolio calculator based on CAPM model\n",
    " coded by : smgw \n",
    " Lisence : GPL\n",
    "# if you're kinda interested in this, plz inform : smgw@u.musashi.ac.jp"
   ]
  },
  {
   "cell_type": "code",
   "execution_count": 13,
   "id": "1e8e6f30",
   "metadata": {},
   "outputs": [],
   "source": [
    "import pandas as pd\n",
    "import numpy as np\n",
    "import matplotlib.pyplot as plt"
   ]
  },
  {
   "cell_type": "code",
   "execution_count": 14,
   "id": "a7b4a293",
   "metadata": {},
   "outputs": [],
   "source": [
    "def pMeans(R):\n",
    "    # R: data set of stock price. must be a list of lists\n",
    "    E_R = [np.mean(R[i]) for i in range(len(R))]\n",
    "    return np.array(E_R)    \n",
    "\n",
    "def pVars(R):\n",
    "    # args are the same as pMeans()\n",
    "    Vars_R = [np.cov(R)[i,i] for i in range(len(R))]\n",
    "    return np.array(Vars_R)\n",
    "\n",
    "def pCovs(R):\n",
    "    # return value : covariance matrix ! \n",
    "    return np.cov(R)\n",
    "\n",
    "def pCorrCoefs(R):\n",
    "    # returns numpy array of correlated coefficients \n",
    "    tmp = []\n",
    "    tmp2 = np.corrcoef(R)\n",
    "    for j in range(len(R)):\n",
    "        for k in range(j+1,len(R)):\n",
    "            tmp.append(tmp2[j,k])\n",
    "    return np.array(tmp)\n",
    "\n",
    "def WeightComb(w) :\n",
    "    # returns the numpy array of w_i w_j (i!=j ) for [... w_k ....]\n",
    "    # w must be an array\n",
    "    tmp = []\n",
    "    for j in range(len(w)):\n",
    "        for k in range(j+1,len(w)):\n",
    "            tmp.append(w[j]*w[k])\n",
    "    return np.array(tmp)\n",
    "\n",
    "def CovComb(R):\n",
    "    # just for convenience\n",
    "    # picks up all covariance of R to construct a numpy array\n",
    "    tmp=[]\n",
    "    for j in range(len(R)):\n",
    "        for k in range(j+1,len(R)):\n",
    "            tmp.append(np.cov(R[j],R[k])[0,1])\n",
    "    return np.array(tmp)\n",
    "\n",
    "def SgmISgmJ(R):\n",
    "    # R : dataset as descrived above\n",
    "    # returns sigma_i X sigma_j for all i!=j( indices of R )\n",
    "    tmp = []\n",
    "    tmp2 = [np.cov(R)[i,i] for i in range(len(R))]\n",
    "    for j in range(len(R)):\n",
    "        for k in range(j+1,len(R)):\n",
    "#            print(str(j) + ' - ' + str(k)) \n",
    "            tmp.append(np.sqrt(tmp2[j]*tmp2[k]))\n",
    "    return np.array(tmp)\n",
    "\n",
    "def pReturn(R,w) :\n",
    "    # weighted mean value of the data set R ; the definition of return \n",
    "    # R: data set of stock price. must be a list of lists\n",
    "    # w : weights. must be a list. length is the same as the list 'R'.\n",
    "    return np.inner(pMeans(R),w)\n",
    "\n",
    "def pReturn2(E,w):\n",
    "    # E : list of expected income ratio for each stock(given), \n",
    "    # w : list of weights. both must be the same size\n",
    "    return np.inner(E,w)\n",
    "\n",
    "def pRisk(R,w):\n",
    "    # Variance of the portfolio \n",
    "    # theoretically it is E((Sum(w_i(R_i - E(R~_i)))^2)\n",
    "    w2=[w[i]**2 for i in range(len(w))]\n",
    "    wiwj=WeightComb(w)\n",
    "    return np.inner(np.array(w2),pVars(R)) + 2*np.inner(wiwj,CovComb(R))\n",
    "\n",
    "def pRisk2(Sigma2,w, cc):\n",
    "    # Variance of the portfolio, using correlation coefficients cc\n",
    "    # cc must be a list, like [ cc[0,1] , cc[0,2]  ... cc[n-1,n] ] \n",
    "    # Sigma2 is a list of variances\n",
    "    w2=[w[i]**2 for i in range(len(w))]\n",
    "    wiwj=WeightComb(w)\n",
    "    tmp = []\n",
    "    counter=0\n",
    "    for j in range(len(Sigma2)):\n",
    "        for k in range(j+1,len(Sigma2)):\n",
    "            tmp.append(np.sqrt(Sigma2[j]*Sigma2[k])*cc[counter])\n",
    "            counter=counter+1\n",
    "    return np.inner(np.array(w2),Sigma2) + 2*np.inner(wiwj,np.array(tmp))"
   ]
  },
  {
   "cell_type": "code",
   "execution_count": 15,
   "id": "24910919",
   "metadata": {},
   "outputs": [],
   "source": [
    "def twobrandsRisk(v,w,cc):\n",
    "    # w : weights; [w_A, w_B]\n",
    "    # v : variances; [Ver_A, Ver_B]\n",
    "    # cc : correlaton coefficient\n",
    "#    w2 = np.array(w**2)\n",
    "#    print(w2)\n",
    "    return np.inner(w,v) + 2*w[0]*w[1]*cc*v[0]*v[1]"
   ]
  },
  {
   "cell_type": "markdown",
   "id": "df85329b",
   "metadata": {},
   "source": [
    "# ============ experiments ==============="
   ]
  },
  {
   "cell_type": "code",
   "execution_count": 16,
   "id": "9a22250f",
   "metadata": {},
   "outputs": [],
   "source": [
    "epsilon = lambda  d : np.random.normal(0,d)"
   ]
  },
  {
   "cell_type": "code",
   "execution_count": 17,
   "id": "536f8e80",
   "metadata": {},
   "outputs": [],
   "source": [
    "def WeightGenerator(n):\n",
    "    # weight generator. makes n partitions on [0,1]\n",
    "    tmp = [0] + list(np.random.uniform(0,1,n-1)) + [1]\n",
    "    tmp2 = np.sort(tmp)\n",
    "    return [tmp2[j+1]-tmp2[j] for j in range(n)]"
   ]
  },
  {
   "cell_type": "code",
   "execution_count": 5,
   "id": "dc7dbbd7",
   "metadata": {},
   "outputs": [],
   "source": [
    "# sum(WeightGenerator(100))\n",
    "#xx = [1,2,3] + [3]"
   ]
  },
  {
   "cell_type": "code",
   "execution_count": 20,
   "id": "e4d54e95",
   "metadata": {},
   "outputs": [],
   "source": [
    "dim = 5\n",
    "R_1 = np.array([[i+epsilon(2) for i in range(10)] for j in range(dim)])\n",
    "ww = np.array(WeightGenerator(dim))\n",
    "Sgm = pVars(R_1)\n",
    "ccc = pCorrCoefs(R_1)"
   ]
  },
  {
   "cell_type": "code",
   "execution_count": 21,
   "id": "a60e9e64",
   "metadata": {},
   "outputs": [
    {
     "data": {
      "text/plain": [
       "array([0.85375926, 0.8905687 , 0.63722673, 0.91566043, 0.71005682,\n",
       "       0.78546714, 0.85697068, 0.62045338, 0.89055676, 0.66367897])"
      ]
     },
     "execution_count": 21,
     "metadata": {},
     "output_type": "execute_result"
    }
   ],
   "source": [
    "ccc"
   ]
  },
  {
   "cell_type": "code",
   "execution_count": 22,
   "id": "4ad2e34d",
   "metadata": {},
   "outputs": [
    {
     "data": {
      "text/plain": [
       "16.193056973986067"
      ]
     },
     "execution_count": 22,
     "metadata": {},
     "output_type": "execute_result"
    }
   ],
   "source": [
    "pRisk(R_1,ww)"
   ]
  },
  {
   "cell_type": "code",
   "execution_count": 23,
   "id": "9d8cbcaa",
   "metadata": {},
   "outputs": [
    {
     "data": {
      "text/plain": [
       "16.193056973986067"
      ]
     },
     "execution_count": 23,
     "metadata": {},
     "output_type": "execute_result"
    }
   ],
   "source": [
    "pRisk2(Sgm,ww,ccc)"
   ]
  },
  {
   "cell_type": "code",
   "execution_count": 3,
   "id": "9d6c9036",
   "metadata": {},
   "outputs": [],
   "source": [
    "# -------------------- 2 brands simulation -----------------"
   ]
  },
  {
   "cell_type": "code",
   "execution_count": 24,
   "id": "0cbb7d7f",
   "metadata": {},
   "outputs": [],
   "source": [
    "SD = np.array([0.2, 0.1])  # std. deviations\n",
    "VR = SD**2\n",
    "EP = np.array([0.3,0.1])   # expected profits\n",
    "CC = np.array([ 0.1*i for i in range(-10,11) ])  # Correlation Coefficients "
   ]
  },
  {
   "cell_type": "code",
   "execution_count": 25,
   "id": "ccc46790",
   "metadata": {},
   "outputs": [],
   "source": [
    "www = np.array([[i*0.1+0.05,1-i*0.1-0.05] for i in range(10)])"
   ]
  },
  {
   "cell_type": "code",
   "execution_count": 10,
   "id": "493e6828",
   "metadata": {},
   "outputs": [],
   "source": [
    "Weights = np.array([WeightGenerator(2) for i in range(10)])"
   ]
  },
  {
   "cell_type": "code",
   "execution_count": 110,
   "id": "af5f0b1d",
   "metadata": {},
   "outputs": [],
   "source": [
    "#print(www) ; print(Weights)"
   ]
  },
  {
   "cell_type": "code",
   "execution_count": 26,
   "id": "87f5a722",
   "metadata": {},
   "outputs": [],
   "source": [
    "#PEP = np.array([Weights[i][0]*EP[0]+Weights[i][1]*EP[1] for i in range(len(Weights))]) # Expected Profits of the portfolio\n",
    "PEP = np.array([www[i][0]*EP[0]+www[i][1]*EP[1] for i in range(len(www))])\n",
    "##  Standard Deviations, with the variety of correlation coefficients (CC)\n",
    "#PSD = [[np.sqrt(pRisk2(VR,np.array(Weights[j]),[CC[i]])) for j in range(len(Weights))] for i in range(-10,11)]\n",
    "PSD = [[np.sqrt(pRisk2(VR,np.array(www[j]),[CC[i]])) for j in range(len(www))] for i in range(-10,11)]\n",
    "# PSD = [[np.sqrt(twobrandsRisk(VR,np.array(www[j]),CC[i])) for j in range(len(www))] for i in range(-10,11)]"
   ]
  },
  {
   "cell_type": "code",
   "execution_count": 27,
   "id": "3fee2047",
   "metadata": {},
   "outputs": [
    {
     "data": {
      "text/plain": [
       "<matplotlib.legend.Legend at 0x7fd4a43268d0>"
      ]
     },
     "execution_count": 27,
     "metadata": {},
     "output_type": "execute_result"
    },
    {
     "data": {
      "image/png": "[encoded data removed]",
      "text/plain": [
       "<Figure size 640x480 with 1 Axes>"
      ]
     },
     "metadata": {},
     "output_type": "display_data"
    }
   ],
   "source": [
    "fig, ax = plt.subplots()\n",
    "plt.xlim(0,0.3)\n",
    "plt.ylim(0,0.35)\n",
    "#plt.legend()\n",
    "\n",
    "ax.scatter(SD,EP, label='Single')\n",
    "ax.scatter(PSD[0],PEP, label=CC[0])\n",
    "#ax.scatter(PSD[3],PEP, label=CC[3])\n",
    "ax.scatter(PSD[5],PEP, label=CC[5])\n",
    "#ax.scatter(PSD[7],PEP, label=CC[7])\n",
    "#ax.scatter(PSD[9],PEP, label=CC[9])\n",
    "ax.scatter(PSD[10],PEP, label=CC[10])\n",
    "ax.scatter(PSD[13],PEP, label=CC[13])\n",
    "#ax.scatter(PSD[15],PEP, label=CC[15])\n",
    "ax.scatter(PSD[17],PEP, label=CC[17])\n",
    "#ax.scatter(PSD[19],PEP, label=CC[19])\n",
    "ax.scatter(PSD[20],PEP, label=CC[20])\n",
    "ax.legend()"
   ]
  },
  {
   "cell_type": "code",
   "execution_count": 141,
   "id": "a6e50f8b",
   "metadata": {},
   "outputs": [],
   "source": [
    "#PSD"
   ]
  },
  {
   "cell_type": "markdown",
   "id": "3115ac0d",
   "metadata": {},
   "source": [
    "# =========== experiments end =============="
   ]
  },
  {
   "cell_type": "code",
   "execution_count": 142,
   "id": "511be756",
   "metadata": {},
   "outputs": [
    {
     "data": {
      "text/plain": [
       "array([-1. , -0.9, -0.8, -0.7, -0.6, -0.5, -0.4, -0.3, -0.2, -0.1,  0. ,\n",
       "        0.1,  0.2,  0.3,  0.4,  0.5,  0.6,  0.7,  0.8,  0.9,  1. ])"
      ]
     },
     "execution_count": 142,
     "metadata": {},
     "output_type": "execute_result"
    }
   ],
   "source": [
    "CC"
   ]
  }
 ],
 "metadata": {
  "kernelspec": {
   "display_name": "Python 3 (ipykernel)",
   "language": "python",
   "name": "python3"
  },
  "language_info": {
   "codemirror_mode": {
    "name": "ipython",
    "version": 3
   },
   "file_extension": ".py",
   "mimetype": "text/x-python",
   "name": "python",
   "nbconvert_exporter": "python",
   "pygments_lexer": "ipython3",
   "version": "3.11.2"
  }
 },
 "nbformat": 4,
 "nbformat_minor": 5
}
