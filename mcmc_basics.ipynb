{
 "cells": [
  {
   "cell_type": "markdown",
   "metadata": {},
   "source": [
    "## 1) MCMC : Metropolis-Hastings Algorithm"
   ]
  },
  {
   "cell_type": "code",
   "execution_count": 1,
   "metadata": {},
   "outputs": [],
   "source": [
    "# first, let's see a stationary distribution and its transition kernel : (TK is given )"
   ]
  },
  {
   "cell_type": "code",
   "execution_count": 65,
   "metadata": {},
   "outputs": [],
   "source": [
    "import numpy as np \n",
    "import pandas as pd\n",
    "import matplotlib.pyplot as plt"
   ]
  },
  {
   "cell_type": "code",
   "execution_count": 3,
   "metadata": {},
   "outputs": [],
   "source": [
    "A = np.array([[1,2,3],[4,5,6],[7,8,0]])  # 行列の定義\n",
    "B = np.array([[1,0,3],[2,5,0],[1,8,2]])  # (おなじ)\n",
    "C = A.dot(B)"
   ]
  },
  {
   "cell_type": "code",
   "execution_count": 4,
   "metadata": {},
   "outputs": [
    {
     "data": {
      "text/plain": [
       "array([[ 8, 34,  9],\n",
       "       [20, 73, 24],\n",
       "       [23, 40, 21]])"
      ]
     },
     "execution_count": 4,
     "metadata": {},
     "output_type": "execute_result"
    }
   ],
   "source": [
    "C"
   ]
  },
  {
   "cell_type": "code",
   "execution_count": 5,
   "metadata": {},
   "outputs": [],
   "source": [
    "# numpy は、統計分析等に必須である、行列の演算を(も)、実装したパッケージ"
   ]
  },
  {
   "cell_type": "code",
   "execution_count": 6,
   "metadata": {},
   "outputs": [],
   "source": [
    "# まず、「例題」における、確率状態推移図を、そのまま確率推移行列へ\n",
    "# PTM と名前をつけておく( Probability Transition Matrix )\n",
    "PTM = np.array([ [1,0,0,0,0],\n",
    "                [0.6,0.3,0.1,0.0,0.0],\n",
    "                [0.3,0.2,0.4,0.1,0.0],\n",
    "                [0.0,0.3,0.2,0.4,0.1],\n",
    "                [0.0,0.0,0.1,0.1,0.8]\n",
    "               ])"
   ]
  },
  {
   "cell_type": "code",
   "execution_count": 7,
   "metadata": {},
   "outputs": [
    {
     "data": {
      "text/plain": [
       "array([[1. , 0. , 0. , 0. , 0. ],\n",
       "       [0.6, 0.3, 0.1, 0. , 0. ],\n",
       "       [0.3, 0.2, 0.4, 0.1, 0. ],\n",
       "       [0. , 0.3, 0.2, 0.4, 0.1],\n",
       "       [0. , 0. , 0.1, 0.1, 0.8]])"
      ]
     },
     "execution_count": 7,
     "metadata": {},
     "output_type": "execute_result"
    }
   ],
   "source": [
    "PTM"
   ]
  },
  {
   "cell_type": "code",
   "execution_count": 8,
   "metadata": {},
   "outputs": [],
   "source": [
    "BeginingStates= np.array([\n",
    "    [0,0,0,0,1],\n",
    "    [0,0,0,0.2,0.8],\n",
    "    [0.1,0,0.4,0.2,0.3],\n",
    "    [0.2,0.3,0.2,0.1,0.2],\n",
    "    [0,0,0.5,0,0.5]\n",
    "])"
   ]
  },
  {
   "cell_type": "code",
   "execution_count": 9,
   "metadata": {},
   "outputs": [],
   "source": [
    "a1  = BeginingStates[0]"
   ]
  },
  {
   "cell_type": "code",
   "execution_count": 10,
   "metadata": {},
   "outputs": [
    {
     "name": "stdout",
     "output_type": "stream",
     "text": [
      "[0. 0. 0. 0. 1.]\n"
     ]
    }
   ],
   "source": [
    "print(a1)"
   ]
  },
  {
   "cell_type": "code",
   "execution_count": 11,
   "metadata": {},
   "outputs": [],
   "source": [
    "A1 = np.array([BeginingStates[0]])"
   ]
  },
  {
   "cell_type": "code",
   "execution_count": 12,
   "metadata": {},
   "outputs": [
    {
     "name": "stdout",
     "output_type": "stream",
     "text": [
      "[[0. 0. 0. 0. 1.]]\n"
     ]
    }
   ],
   "source": [
    "# 行列／ベクトルの演算を実行するときは、「入れ子」でないとダメ\n",
    "print(A1)"
   ]
  },
  {
   "cell_type": "code",
   "execution_count": 13,
   "metadata": {},
   "outputs": [],
   "source": [
    "result1 = A1.dot(PTM)"
   ]
  },
  {
   "cell_type": "code",
   "execution_count": 14,
   "metadata": {},
   "outputs": [
    {
     "data": {
      "text/plain": [
       "array([[0. , 0. , 0.1, 0.1, 0.8]])"
      ]
     },
     "execution_count": 14,
     "metadata": {},
     "output_type": "execute_result"
    }
   ],
   "source": [
    "result1"
   ]
  },
  {
   "cell_type": "code",
   "execution_count": 15,
   "metadata": {},
   "outputs": [],
   "source": [
    "# とりあえず、上で適当に定義した初期状態ぜんぶについて、計算してみよう\n",
    "A0 =  np.array([BeginingStates[0]])\n",
    "A1 =  np.array([BeginingStates[1]])\n",
    "A2 =  np.array([BeginingStates[2]])\n",
    "A3 =  np.array([BeginingStates[3]])\n",
    "A4 =  np.array([BeginingStates[4]])"
   ]
  },
  {
   "cell_type": "code",
   "execution_count": 16,
   "metadata": {},
   "outputs": [],
   "source": [
    "# では、計算\n",
    "result = A1.dot(PTM)\n",
    "result_history=A1\n",
    "for i in range(100):\n",
    "    result = result.dot(PTM)\n",
    "    result_history = np.append(result_history,result,axis=0)"
   ]
  },
  {
   "cell_type": "code",
   "execution_count": 17,
   "metadata": {},
   "outputs": [],
   "source": [
    "#result_history"
   ]
  },
  {
   "cell_type": "code",
   "execution_count": 18,
   "metadata": {},
   "outputs": [],
   "source": [
    "df_A1_history =  pd.DataFrame(result_history)"
   ]
  },
  {
   "cell_type": "code",
   "execution_count": 19,
   "metadata": {},
   "outputs": [
    {
     "data": {
      "text/html": [
       "<div>\n",
       "<style scoped>\n",
       "    .dataframe tbody tr th:only-of-type {\n",
       "        vertical-align: middle;\n",
       "    }\n",
       "\n",
       "    .dataframe tbody tr th {\n",
       "        vertical-align: top;\n",
       "    }\n",
       "\n",
       "    .dataframe thead th {\n",
       "        text-align: right;\n",
       "    }\n",
       "</style>\n",
       "<table border=\"1\" class=\"dataframe\">\n",
       "  <thead>\n",
       "    <tr style=\"text-align: right;\">\n",
       "      <th></th>\n",
       "      <th>0</th>\n",
       "      <th>1</th>\n",
       "      <th>2</th>\n",
       "      <th>3</th>\n",
       "      <th>4</th>\n",
       "    </tr>\n",
       "  </thead>\n",
       "  <tbody>\n",
       "    <tr>\n",
       "      <th>0</th>\n",
       "      <td>0.000000</td>\n",
       "      <td>0.000000e+00</td>\n",
       "      <td>0.000000e+00</td>\n",
       "      <td>2.000000e-01</td>\n",
       "      <td>8.000000e-01</td>\n",
       "    </tr>\n",
       "    <tr>\n",
       "      <th>1</th>\n",
       "      <td>0.072000</td>\n",
       "      <td>9.000000e-02</td>\n",
       "      <td>1.520000e-01</td>\n",
       "      <td>1.420000e-01</td>\n",
       "      <td>5.440000e-01</td>\n",
       "    </tr>\n",
       "    <tr>\n",
       "      <th>2</th>\n",
       "      <td>0.171600</td>\n",
       "      <td>1.000000e-01</td>\n",
       "      <td>1.526000e-01</td>\n",
       "      <td>1.264000e-01</td>\n",
       "      <td>4.494000e-01</td>\n",
       "    </tr>\n",
       "    <tr>\n",
       "      <th>3</th>\n",
       "      <td>0.277380</td>\n",
       "      <td>9.844000e-02</td>\n",
       "      <td>1.412600e-01</td>\n",
       "      <td>1.107600e-01</td>\n",
       "      <td>3.721600e-01</td>\n",
       "    </tr>\n",
       "    <tr>\n",
       "      <th>4</th>\n",
       "      <td>0.378822</td>\n",
       "      <td>9.101200e-02</td>\n",
       "      <td>1.257160e-01</td>\n",
       "      <td>9.564600e-02</td>\n",
       "      <td>3.088040e-01</td>\n",
       "    </tr>\n",
       "    <tr>\n",
       "      <th>...</th>\n",
       "      <td>...</td>\n",
       "      <td>...</td>\n",
       "      <td>...</td>\n",
       "      <td>...</td>\n",
       "      <td>...</td>\n",
       "    </tr>\n",
       "    <tr>\n",
       "      <th>96</th>\n",
       "      <td>1.000000</td>\n",
       "      <td>6.198398e-09</td>\n",
       "      <td>7.958751e-09</td>\n",
       "      <td>5.725444e-09</td>\n",
       "      <td>1.688449e-08</td>\n",
       "    </tr>\n",
       "    <tr>\n",
       "      <th>97</th>\n",
       "      <td>1.000000</td>\n",
       "      <td>5.168903e-09</td>\n",
       "      <td>6.636878e-09</td>\n",
       "      <td>4.774502e-09</td>\n",
       "      <td>1.408014e-08</td>\n",
       "    </tr>\n",
       "    <tr>\n",
       "      <th>98</th>\n",
       "      <td>1.000000</td>\n",
       "      <td>4.310397e-09</td>\n",
       "      <td>5.534556e-09</td>\n",
       "      <td>3.981502e-09</td>\n",
       "      <td>1.174156e-08</td>\n",
       "    </tr>\n",
       "    <tr>\n",
       "      <th>99</th>\n",
       "      <td>1.000000</td>\n",
       "      <td>3.594481e-09</td>\n",
       "      <td>4.615318e-09</td>\n",
       "      <td>3.320212e-09</td>\n",
       "      <td>9.791398e-09</td>\n",
       "    </tr>\n",
       "    <tr>\n",
       "      <th>100</th>\n",
       "      <td>1.000000</td>\n",
       "      <td>2.997472e-09</td>\n",
       "      <td>3.848758e-09</td>\n",
       "      <td>2.768757e-09</td>\n",
       "      <td>8.165140e-09</td>\n",
       "    </tr>\n",
       "  </tbody>\n",
       "</table>\n",
       "<p>101 rows × 5 columns</p>\n",
       "</div>"
      ],
      "text/plain": [
       "            0             1             2             3             4\n",
       "0    0.000000  0.000000e+00  0.000000e+00  2.000000e-01  8.000000e-01\n",
       "1    0.072000  9.000000e-02  1.520000e-01  1.420000e-01  5.440000e-01\n",
       "2    0.171600  1.000000e-01  1.526000e-01  1.264000e-01  4.494000e-01\n",
       "3    0.277380  9.844000e-02  1.412600e-01  1.107600e-01  3.721600e-01\n",
       "4    0.378822  9.101200e-02  1.257160e-01  9.564600e-02  3.088040e-01\n",
       "..        ...           ...           ...           ...           ...\n",
       "96   1.000000  6.198398e-09  7.958751e-09  5.725444e-09  1.688449e-08\n",
       "97   1.000000  5.168903e-09  6.636878e-09  4.774502e-09  1.408014e-08\n",
       "98   1.000000  4.310397e-09  5.534556e-09  3.981502e-09  1.174156e-08\n",
       "99   1.000000  3.594481e-09  4.615318e-09  3.320212e-09  9.791398e-09\n",
       "100  1.000000  2.997472e-09  3.848758e-09  2.768757e-09  8.165140e-09\n",
       "\n",
       "[101 rows x 5 columns]"
      ]
     },
     "execution_count": 19,
     "metadata": {},
     "output_type": "execute_result"
    }
   ],
   "source": [
    "df_A1_history"
   ]
  },
  {
   "cell_type": "code",
   "execution_count": 20,
   "metadata": {},
   "outputs": [
    {
     "data": {
      "image/png": "[encoded data removed]",
      "text/plain": [
       "<Figure size 640x480 with 1 Axes>"
      ]
     },
     "metadata": {},
     "output_type": "display_data"
    }
   ],
   "source": [
    "df_A1_history.plot()\n",
    "plt.show()"
   ]
  },
  {
   "cell_type": "code",
   "execution_count": 21,
   "metadata": {},
   "outputs": [],
   "source": [
    "# データフレーム生成を(一定)自動化\n",
    "# 引数：推移確率行列、初期ベクトル、実時間(自然数)\n",
    "def state_trans_df(ptm,init,n):\n",
    "    hist=init\n",
    "    for i in range(n):\n",
    "        init = init.dot(ptm)\n",
    "        hist = np.append(hist,init,axis=0)\n",
    "    return pd.DataFrame(hist)"
   ]
  },
  {
   "cell_type": "code",
   "execution_count": 22,
   "metadata": {},
   "outputs": [],
   "source": [
    "aaa = state_trans_df(PTM,A2,100)"
   ]
  },
  {
   "cell_type": "code",
   "execution_count": 23,
   "metadata": {},
   "outputs": [
    {
     "data": {
      "image/png": "[encoded data removed]",
      "text/plain": [
       "<Figure size 640x480 with 1 Axes>"
      ]
     },
     "metadata": {},
     "output_type": "display_data"
    }
   ],
   "source": [
    "#aaa\n",
    "aaa.plot()\n",
    "plt.show()"
   ]
  },
  {
   "cell_type": "code",
   "execution_count": 24,
   "metadata": {},
   "outputs": [],
   "source": [
    "bbb = state_trans_df(PTM,A1,100)\n",
    "ccc = state_trans_df(PTM,A2,100)\n",
    "ddd = state_trans_df(PTM,A3,100)\n",
    "eee = state_trans_df(PTM,A4,100)"
   ]
  },
  {
   "cell_type": "code",
   "execution_count": 25,
   "metadata": {},
   "outputs": [],
   "source": [
    "#bbb.plot()\n",
    "#plt.show()\n",
    "#ccc.plot()\n",
    "#plt.show()\n",
    "#ddd.plot()\n",
    "#plt.show()\n",
    "#eee.plot()\n",
    "#plt.show()"
   ]
  },
  {
   "cell_type": "code",
   "execution_count": 26,
   "metadata": {},
   "outputs": [],
   "source": [
    "# ほんとうはありえないわけだが：\n",
    "# Δt ののち、死んだ奴の1割が、よみがえる世界を考える：\n",
    "# PTM2 と名前をつけておく\n",
    "PTM2 = np.array([ [0.9,0,0,0,0.1],\n",
    "                [0.6,0.3,0.1,0.0,0.0],\n",
    "                [0.3,0.2,0.4,0.1,0.0],\n",
    "                [0.0,0.3,0.2,0.4,0.1],\n",
    "                [0.0,0.0,0.1,0.1,0.8]\n",
    "               ])"
   ]
  },
  {
   "cell_type": "code",
   "execution_count": 27,
   "metadata": {},
   "outputs": [],
   "source": [
    "aaa = state_trans_df(PTM2,A0,100)\n",
    "bbb = state_trans_df(PTM2,A1,100)\n",
    "ccc = state_trans_df(PTM2,A2,100)\n",
    "ddd = state_trans_df(PTM2,A3,100)\n",
    "eee = state_trans_df(PTM2,A4,100)"
   ]
  },
  {
   "cell_type": "code",
   "execution_count": 28,
   "metadata": {},
   "outputs": [],
   "source": [
    "#bbb.plot()\n",
    "#plt.show()\n",
    "#ccc.plot()\n",
    "#plt.show()\n",
    "#ddd.plot()\n",
    "#plt.show()\n",
    "#eee.plot()\n",
    "#plt.show()"
   ]
  },
  {
   "cell_type": "code",
   "execution_count": 29,
   "metadata": {},
   "outputs": [
    {
     "data": {
      "text/plain": [
       "array([0, 1, 2, 3, 4])"
      ]
     },
     "execution_count": 29,
     "metadata": {},
     "output_type": "execute_result"
    }
   ],
   "source": [
    "np.array(aaa.columns)"
   ]
  },
  {
   "cell_type": "code",
   "execution_count": 30,
   "metadata": {},
   "outputs": [
    {
     "name": "stdout",
     "output_type": "stream",
     "text": [
      "[[0.521569 0.048366 0.077124 0.061438 0.291503]\n",
      " [0.521569 0.048366 0.077124 0.061438 0.291503]\n",
      " [0.521569 0.048366 0.077124 0.061438 0.291503]\n",
      " [0.521569 0.048366 0.077124 0.061438 0.291503]\n",
      " [0.521569 0.048366 0.077124 0.061438 0.291503]]\n"
     ]
    }
   ],
   "source": [
    "#\n",
    "# first, take a look at the stationary probability density : \n",
    "stt = [aaa,bbb,ccc,ddd,eee]\n",
    "nst = len(np.array(aaa.columns))\n",
    "#print(nst)\n",
    "result = []\n",
    "for i in stt :\n",
    "    #print('--------')\n",
    "    tmp = []\n",
    "    for j in range(nst):\n",
    "        #print(i[j][len(i[j])-1])\n",
    "        tmp.append(i[j][len(i[j])-1])\n",
    "    result.append(tmp)\n",
    "result = np.round(result, decimals=6)\n",
    "print(result)"
   ]
  },
  {
   "cell_type": "code",
   "execution_count": 31,
   "metadata": {},
   "outputs": [],
   "source": [
    "# so, let us use aaa's final probability as the stationary distribution(定常分布)\n",
    "stationary = np.array(result[0])"
   ]
  },
  {
   "cell_type": "code",
   "execution_count": 32,
   "metadata": {},
   "outputs": [
    {
     "data": {
      "text/plain": [
       "np.float64(1.0)"
      ]
     },
     "execution_count": 32,
     "metadata": {},
     "output_type": "execute_result"
    }
   ],
   "source": [
    "np.sum(stationary)"
   ]
  },
  {
   "cell_type": "code",
   "execution_count": 33,
   "metadata": {},
   "outputs": [
    {
     "name": "stdout",
     "output_type": "stream",
     "text": [
      "[0.521569 0.048366 0.077124 0.061438 0.291503]\n",
      "[0.5215689 0.048366  0.0771241 0.0614379 0.2915031]\n"
     ]
    }
   ],
   "source": [
    "# the stationary distribution needs to satisfy :\n",
    "# stationary ~= stationary.dot(PTM2). \n",
    "print(stationary)\n",
    "print(stationary.dot(PTM2))"
   ]
  },
  {
   "cell_type": "code",
   "execution_count": 34,
   "metadata": {},
   "outputs": [
    {
     "data": {
      "text/plain": [
       "array([[0.9, 0. , 0. , 0. , 0.1],\n",
       "       [0.6, 0.3, 0.1, 0. , 0. ],\n",
       "       [0.3, 0.2, 0.4, 0.1, 0. ],\n",
       "       [0. , 0.3, 0.2, 0.4, 0.1],\n",
       "       [0. , 0. , 0.1, 0.1, 0.8]])"
      ]
     },
     "execution_count": 34,
     "metadata": {},
     "output_type": "execute_result"
    }
   ],
   "source": [
    "PTM2"
   ]
  },
  {
   "cell_type": "markdown",
   "metadata": {},
   "source": [
    "## ------ Here we're trying to identify Transition Kernel of this system\n",
    "# using MH method"
   ]
  },
  {
   "cell_type": "code",
   "execution_count": 35,
   "metadata": {},
   "outputs": [],
   "source": [
    "# stationary distribution ; this is supposed to be :\n",
    "# an observation data from practical world\n",
    "states = np.array([0,1,2,3,4])\n",
    "# 0 : death, 1 : sevior, 2: moderate, 3 : mild, 4 : non_infected\n",
    "stat_dist = np.array([\n",
    "    states,\n",
    "    stationary*10000  # populations for each condition\n",
    "])"
   ]
  },
  {
   "cell_type": "code",
   "execution_count": 36,
   "metadata": {},
   "outputs": [
    {
     "data": {
      "image/png": "[encoded data removed]",
      "text/plain": [
       "<Figure size 640x480 with 1 Axes>"
      ]
     },
     "metadata": {},
     "output_type": "display_data"
    }
   ],
   "source": [
    "stat_dist\n",
    "plt.bar(stat_dist[0],stat_dist[1])\n",
    "plt.show()"
   ]
  },
  {
   "cell_type": "code",
   "execution_count": 37,
   "metadata": {},
   "outputs": [],
   "source": [
    "# initial distribution \n",
    "init_dist = np.array([\n",
    "    states,\n",
    "    [1/len(states) for i in states]\n",
    "])"
   ]
  },
  {
   "cell_type": "code",
   "execution_count": 38,
   "metadata": {},
   "outputs": [],
   "source": [
    "# proposal transition matrix\n",
    "# ... let us use a uniform distribution : that is : the metropolis Algolithm\n",
    "# in which the proposal distribution is symmetric. \n",
    "ptm = np.array([\n",
    "    [1/len(states) for i in states] for j in states\n",
    "])"
   ]
  },
  {
   "cell_type": "code",
   "execution_count": 39,
   "metadata": {},
   "outputs": [],
   "source": [
    "def valuation(x,y) :\n",
    "    return stat_dist[1][y] * ptm[y][x] / stat_dist[1][x] * ptm[x][y]"
   ]
  },
  {
   "cell_type": "code",
   "execution_count": 40,
   "metadata": {},
   "outputs": [],
   "source": [
    "def valuation2(x,y) :\n",
    "    return stat_dist[1][x] * ptm[x][y] / stat_dist[1][y] * ptm[y][x]"
   ]
  },
  {
   "cell_type": "code",
   "execution_count": 42,
   "metadata": {},
   "outputs": [
    {
     "data": {
      "text/plain": [
       "np.float64(0.2705093096831077)"
      ]
     },
     "execution_count": 42,
     "metadata": {},
     "output_type": "execute_result"
    }
   ],
   "source": [
    "valuation(2,0)"
   ]
  },
  {
   "cell_type": "code",
   "execution_count": 41,
   "metadata": {},
   "outputs": [],
   "source": [
    "# alpha\n",
    "alpha = lambda x,y : min(1,valuation(x,y))"
   ]
  },
  {
   "cell_type": "code",
   "execution_count": 42,
   "metadata": {},
   "outputs": [],
   "source": [
    "# here we go for the experiment ....\n",
    "\n",
    "X = []\n",
    "X0 = 4\n",
    "X.append(X0) # initial state\n",
    "NN = 10000\n",
    "\n",
    "for i in range(NN):\n",
    "    y = np.random.randint(0,5)\n",
    "    a = alpha(X[i],y)\n",
    "    u = np.random.rand() \n",
    "\n",
    "    if u < a: \n",
    "        X.append(y)\n",
    "    else: \n",
    "        X.append(X[i])"
   ]
  },
  {
   "cell_type": "code",
   "execution_count": 43,
   "metadata": {},
   "outputs": [],
   "source": [
    "SPTM = np.array([\n",
    "    [ 0 for i in states ] for j in states\n",
    "], dtype='float64')\n",
    "for i in range(NN-1) :\n",
    "    SPTM[X[i]][X[i+1]]=SPTM[X[i]][X[i+1]]+1\n",
    "\n",
    "for i in range(len(states)) :\n",
    "    s = sum(SPTM[i])\n",
    "    for j in range(len(states)):\n",
    "        SPTM[i][j]/=s"
   ]
  },
  {
   "cell_type": "code",
   "execution_count": 44,
   "metadata": {},
   "outputs": [
    {
     "data": {
      "text/plain": [
       "array([[9.91951710e-01, 8.04828974e-04, 1.34138162e-03, 1.74379611e-03,\n",
       "        4.15828303e-03],\n",
       "       [3.03030303e-02, 8.63636364e-01, 0.00000000e+00, 1.51515152e-02,\n",
       "        9.09090909e-02],\n",
       "       [6.87022901e-02, 7.63358779e-03, 9.00763359e-01, 7.63358779e-03,\n",
       "        1.52671756e-02],\n",
       "       [1.05882353e-01, 0.00000000e+00, 0.00000000e+00, 7.88235294e-01,\n",
       "        1.05882353e-01],\n",
       "       [1.76834660e-02, 8.84173298e-04, 1.32625995e-03, 1.32625995e-03,\n",
       "        9.78779841e-01]])"
      ]
     },
     "execution_count": 44,
     "metadata": {},
     "output_type": "execute_result"
    }
   ],
   "source": [
    "SPTM"
   ]
  },
  {
   "cell_type": "code",
   "execution_count": 45,
   "metadata": {},
   "outputs": [],
   "source": [
    "h,b = np.histogram(X,bins=[0,1,2,3,4,5])"
   ]
  },
  {
   "cell_type": "code",
   "execution_count": 46,
   "metadata": {},
   "outputs": [
    {
     "name": "stdout",
     "output_type": "stream",
     "text": [
      "[7455   66  131   85 2264]\n"
     ]
    },
    {
     "data": {
      "text/plain": [
       "<BarContainer object of 5 artists>"
      ]
     },
     "execution_count": 46,
     "metadata": {},
     "output_type": "execute_result"
    },
    {
     "data": {
      "image/png": "[encoded data removed]",
      "text/plain": [
       "<Figure size 640x480 with 1 Axes>"
      ]
     },
     "metadata": {},
     "output_type": "display_data"
    }
   ],
   "source": [
    "print(h)\n",
    "plt.bar(states,h)\n",
    "#plt.bar(h[0],h[1])"
   ]
  },
  {
   "cell_type": "code",
   "execution_count": 47,
   "metadata": {},
   "outputs": [
    {
     "data": {
      "text/plain": [
       "array([7455.03536693,   66.00176835,  131.00265252,   85.00265252,\n",
       "       2263.95755968])"
      ]
     },
     "execution_count": 47,
     "metadata": {},
     "output_type": "execute_result"
    }
   ],
   "source": [
    "h.dot(SPTM)"
   ]
  },
  {
   "cell_type": "markdown",
   "metadata": {},
   "source": [
    "## ----------------------------------------"
   ]
  },
  {
   "cell_type": "markdown",
   "metadata": {},
   "source": [
    "## 2) Gibbs Sampler : what if ; we want to sample from joint distribution which we can't identify \n",
    "## the density function itself but able to use conditional distributions..."
   ]
  },
  {
   "cell_type": "code",
   "execution_count": 2,
   "metadata": {},
   "outputs": [],
   "source": [
    "#np.random.binomial(1,0.2)"
   ]
  },
  {
   "cell_type": "code",
   "execution_count": 69,
   "metadata": {},
   "outputs": [],
   "source": [
    "firstin = lambda a, x : [x] + a\n",
    "lastin = lambda a, x: a + [x]"
   ]
  },
  {
   "cell_type": "code",
   "execution_count": 66,
   "metadata": {},
   "outputs": [],
   "source": [
    "def gen_dist(a,n) :  # descrete probability distribution generator: \n",
    "    # used for generating marginal distributions \n",
    "    # a in (0,1]\n",
    "    # n : the num. of partitions in (0,a), which indicates the cases of random var.\n",
    "    tmp = [np.random.uniform(0,a) for i in range(n-1) ]\n",
    "    tmp.append(a)\n",
    "    tmp.insert(0,0)\n",
    "    tmp2 = np.sort(tmp)\n",
    "    #print(tmp2)\n",
    "    return np.array([tmp2[j+1]-tmp2[j] for j in range(n)])"
   ]
  },
  {
   "cell_type": "code",
   "execution_count": 71,
   "metadata": {},
   "outputs": [],
   "source": [
    "ee = gen_dist(1,5)"
   ]
  },
  {
   "cell_type": "code",
   "execution_count": 73,
   "metadata": {},
   "outputs": [
    {
     "data": {
      "text/plain": [
       "np.float64(1.0)"
      ]
     },
     "execution_count": 73,
     "metadata": {},
     "output_type": "execute_result"
    }
   ],
   "source": [
    "np.sum(ee)"
   ]
  },
  {
   "cell_type": "code",
   "execution_count": 3,
   "metadata": {},
   "outputs": [],
   "source": [
    "\n",
    "def firstout(a) : # first out\n",
    "    r = a[0]\n",
    "    aa = a[1:].copy()\n",
    "    return r,aa\n",
    "\n",
    "def lastout(a) :\n",
    "    r = a[len(a)-1]\n",
    "    aa = a[:len(a)-1]\n",
    "    return r,aa"
   ]
  },
  {
   "cell_type": "code",
   "execution_count": 75,
   "metadata": {},
   "outputs": [],
   "source": [
    "# first, let's generate a 3-d joint distribution\n",
    "# first we need to generate probability one by one to fulfill \n",
    "# 3-d parallelepiped\n",
    "dd = np.array([3,5,4])\n",
    "ss = gen_dist(1,np.prod(dd))\n",
    "state = [0,0,0] # initial state. from here the Markov Chain begins"
   ]
  },
  {
   "cell_type": "code",
   "execution_count": 76,
   "metadata": {},
   "outputs": [],
   "source": [
    "# then, let's fill it with the data generated above\n",
    "# the name is Joint3d\n",
    "Joint3d = []\n",
    "cc = 0\n",
    "for l in range(dd[0]):\n",
    "    t1 = []\n",
    "    for k in range(dd[1]):\n",
    "        t2 = []\n",
    "        for j in range(dd[2]):\n",
    "            t2.append(ss[cc])\n",
    "            cc+=1\n",
    "        t1.append(t2)\n",
    "    Joint3d.append(t1)"
   ]
  },
  {
   "cell_type": "code",
   "execution_count": 6,
   "metadata": {},
   "outputs": [],
   "source": [
    "#Joint3d[0][:][:]"
   ]
  },
  {
   "cell_type": "code",
   "execution_count": 69,
   "metadata": {},
   "outputs": [],
   "source": [
    "#dd = np.array([3,5,4])"
   ]
  },
  {
   "cell_type": "code",
   "execution_count": 107,
   "metadata": {},
   "outputs": [],
   "source": [
    "# random val.s : 3\n",
    "# conditional distributions case 1) : \n",
    "# we only know one dimmentional random val's distribution when other two random vals' are fixed "
   ]
  },
  {
   "cell_type": "code",
   "execution_count": 77,
   "metadata": {},
   "outputs": [],
   "source": [
    "# marginal distribution \n",
    "mX = lambda y,z,j : [j[i][y][z] for i in range(np.shape(j)[0])]\n",
    "mY = lambda x,z,j : [j[x][i][z] for i in range(np.shape(j)[1])]\n",
    "mZ = lambda x,y,j : [j[x][y][i] for i in range(np.shape(j)[2])]"
   ]
  },
  {
   "cell_type": "code",
   "execution_count": 78,
   "metadata": {},
   "outputs": [
    {
     "data": {
      "text/plain": [
       "[np.float64(0.011243481925463983),\n",
       " np.float64(0.005134954764145605),\n",
       " np.float64(0.012471661055429961),\n",
       " np.float64(0.027663547084496032)]"
      ]
     },
     "execution_count": 78,
     "metadata": {},
     "output_type": "execute_result"
    }
   ],
   "source": [
    "mZ(2,1,Joint3d)"
   ]
  },
  {
   "cell_type": "code",
   "execution_count": 79,
   "metadata": {},
   "outputs": [],
   "source": [
    "def random_01(p) :\n",
    "    # p should be an array of positive reals, which sum is 1\n",
    "    # returns the partition of [0,1], as an array like [0,0.2,0.5,0.8,1]\n",
    "    # in which case p = [0.2,0.3,0.3,0.2]\n",
    "    r = []\n",
    "    t = 0\n",
    "    for i in p:\n",
    "        t+=i\n",
    "        r.append(t)\n",
    "    #r.insert(0,0)\n",
    "    return firstin(r,0)"
   ]
  },
  {
   "cell_type": "code",
   "execution_count": 80,
   "metadata": {},
   "outputs": [
    {
     "data": {
      "text/plain": [
       "[0, 0.2, 0.5, 0.9, 1.0]"
      ]
     },
     "execution_count": 80,
     "metadata": {},
     "output_type": "execute_result"
    }
   ],
   "source": [
    "random_01([.2,.3,.4,.1])\n",
    "#firstin([1,2,3],0)"
   ]
  },
  {
   "cell_type": "code",
   "execution_count": 32,
   "metadata": {},
   "outputs": [
    {
     "data": {
      "text/plain": [
       "(3, 5, 4)"
      ]
     },
     "execution_count": 32,
     "metadata": {},
     "output_type": "execute_result"
    }
   ],
   "source": [
    "#mX(4,3,Joint3d)\n",
    "np.shape(Joint3d)"
   ]
  },
  {
   "cell_type": "code",
   "execution_count": 81,
   "metadata": {},
   "outputs": [],
   "source": [
    "# frequency matrix\n",
    "freq3d = np.array([[[0 for i in range(dd[2])] for j in range(dd[1])] for k in range(dd[0])])"
   ]
  },
  {
   "cell_type": "code",
   "execution_count": 34,
   "metadata": {},
   "outputs": [
    {
     "data": {
      "text/plain": [
       "[0,\n",
       " np.float64(0.8549271169901943),\n",
       " np.float64(0.960177158594422),\n",
       " np.float64(1.0)]"
      ]
     },
     "execution_count": 34,
     "metadata": {},
     "output_type": "execute_result"
    }
   ],
   "source": [
    "# moving x axis ...\n",
    "ss = [0,0,0]\n",
    "random_01([mX(ss[1],ss[2],Joint3d)[i]/np.sum(mX(ss[1],ss[2],Joint3d)) for i in range(len(Joint3d[:]))])\n",
    "#random_01([mY(ss[0],ss[2],Joint3d)[i]/np.sum(mY(ss[0],ss[2],Joint3d)) for i in range(len(Joint3d[0][:]))])\n",
    "#random_01([mZ(ss[0],ss[1],Joint3d)[i]/np.sum(mZ(ss[0],ss[1],Joint3d)) for i in range(len(Joint3d[0][0][:]))])"
   ]
  },
  {
   "cell_type": "code",
   "execution_count": 86,
   "metadata": {},
   "outputs": [
    {
     "data": {
      "text/plain": [
       "4"
      ]
     },
     "execution_count": 86,
     "metadata": {},
     "output_type": "execute_result"
    }
   ],
   "source": [
    "#mZ(ss[0],ss[1],Joint3d)[3]/np.sum(mZ(ss[0],ss[1],Joint3d))\n",
    "len(Joint3d[2][0][:])\n",
    "#len(Joint3d[2][:])\n",
    "#len(Joint3d[2])"
   ]
  },
  {
   "cell_type": "code",
   "execution_count": 87,
   "metadata": {},
   "outputs": [],
   "source": [
    "eval_interval = lambda a,b,x : True if a<x and x<=b else False"
   ]
  },
  {
   "cell_type": "code",
   "execution_count": 64,
   "metadata": {},
   "outputs": [
    {
     "name": "stdout",
     "output_type": "stream",
     "text": [
      "[0, np.float64(0.4377248116613328), np.float64(0.674018130580165), np.float64(0.8290654569916978), np.float64(0.935395525306131), np.float64(0.9999999999999999)]\n",
      "0.9369017951005925\n",
      "4\n",
      "4\n"
     ]
    }
   ],
   "source": [
    "# test ....\n",
    "xxx = random_01([mX(ss[1],ss[2],Joint3d)[i]/np.sum(mX(ss[1],ss[2],Joint3d)) for i in range(len(Joint3d[:]))])\n",
    "yyy = random_01([mY(ss[0],ss[2],Joint3d)[i]/np.sum(mY(ss[0],ss[2],Joint3d)) for i in range(len(Joint3d[0][:]))])\n",
    "zzz = random_01([mZ(ss[0],ss[1],Joint3d)[i]/np.sum(mZ(ss[0],ss[1],Joint3d)) for i in range(len(Joint3d[0][0][:]))])\n",
    "j=0\n",
    "p=np.random.rand()\n",
    "print(yyy)\n",
    "print(p)\n",
    "for i in range(len(yyy)-1):\n",
    "    if eval_interval(yyy[i],yyy[i+1],p):\n",
    "        print(j)\n",
    "        break\n",
    "    j+=1\n",
    "print(j)  #; print(zzz[i])\n",
    "    "
   ]
  },
  {
   "cell_type": "code",
   "execution_count": 88,
   "metadata": {},
   "outputs": [],
   "source": [
    "# Markov Chain generation : \n",
    "\n",
    "def moving(s,j,flag) : \n",
    "    # s : present state\n",
    "    # j : joint distribution matrix\n",
    "    # flag : 0-> x move, 1-> y move, 2->z move\n",
    "    sss = np.copy(s)\n",
    "    match flag :\n",
    "        case 0: # x axis\n",
    "            xx = random_01([mX(s[1],s[2],j)[i]/np.sum(mX(s[1],s[2],j)) for i in range(len(j[:]))])\n",
    "            pp = np.random.rand()\n",
    "            ii=0\n",
    "            for k in range(len(xx)-1):\n",
    "                if eval_interval(xx[k],xx[k+1],pp):\n",
    "                    break\n",
    "                ii=ii+1\n",
    "            sss[0]=ii\n",
    "        case 1: # y axis\n",
    "            yy = random_01([mY(s[0],s[2],j)[i]/np.sum(mY(s[0],s[2],j)) for i in range(len(j[0][:]))])\n",
    "            pp = np.random.rand()\n",
    "            ii=0\n",
    "            for k in range(len(yy)-1):\n",
    "                if eval_interval(yy[k],yy[k+1],pp):\n",
    "                    break\n",
    "                ii=ii+1\n",
    "            sss[1]=ii\n",
    "        case 2: # z axis \n",
    "            zz = random_01([mZ(s[0],s[1],j)[i]/np.sum(mZ(s[0],s[1],j)) for i in range(len(j[0][0][:]))])\n",
    "            pp = np.random.rand()\n",
    "            ii=0\n",
    "            for k in range(len(zz)-1):\n",
    "                if eval_interval(zz[k],zz[k+1],pp):\n",
    "                    break\n",
    "                ii=ii+1\n",
    "            sss[2]=ii\n",
    "    return sss"
   ]
  },
  {
   "cell_type": "code",
   "execution_count": 125,
   "metadata": {},
   "outputs": [
    {
     "data": {
      "text/plain": [
       "array([2, 3, 1])"
      ]
     },
     "execution_count": 125,
     "metadata": {},
     "output_type": "execute_result"
    }
   ],
   "source": [
    "moving([1,3,1],Joint3d,0)"
   ]
  },
  {
   "cell_type": "code",
   "execution_count": 400,
   "metadata": {},
   "outputs": [],
   "source": [
    "# test ....\n",
    "ss = [0,0,0]\n",
    "r = []\n",
    "for kk in range(100):\n",
    "    d = np.mod(kk,3)\n",
    "    ss = moving(ss,Joint3d,d)\n",
    "    r.append(ss)"
   ]
  },
  {
   "cell_type": "code",
   "execution_count": 126,
   "metadata": {},
   "outputs": [],
   "source": [
    "# Prepareing for Frequency container ...\n",
    "Freq = []\n",
    "\n",
    "for l in range(dd[0]):\n",
    "    t1 = []\n",
    "    for k in range(dd[1]):\n",
    "        t2 = []\n",
    "        for j in range(dd[2]):\n",
    "            t2.append(0)\n",
    "        t1.append(t2)\n",
    "    Freq.append(t1)\n"
   ]
  },
  {
   "cell_type": "code",
   "execution_count": 127,
   "metadata": {},
   "outputs": [],
   "source": [
    "# =================== Now, it's the time of Experiment ======================\n",
    "ss = [0,0,0] # initial state\n",
    "nn = 10000 # Markov Chain Length\n",
    "for kk in range(nn):\n",
    "    d = np.mod(kk,3)\n",
    "    ss = moving(ss,Joint3d,d)\n",
    "    #r.append(ss)\n",
    "    Freq[ss[0]][ss[1]][ss[2]] = Freq[ss[0]][ss[1]][ss[2]]+1\n"
   ]
  },
  {
   "cell_type": "code",
   "execution_count": 128,
   "metadata": {},
   "outputs": [],
   "source": [
    "Freq = Freq/np.sum(Freq)"
   ]
  },
  {
   "cell_type": "code",
   "execution_count": 131,
   "metadata": {},
   "outputs": [
    {
     "data": {
      "text/plain": [
       "[np.float64(0.003136346777105281),\n",
       " np.float64(0.0173358712166366),\n",
       " np.float64(0.0651489207057353),\n",
       " np.float64(0.002439482293231987)]"
      ]
     },
     "execution_count": 131,
     "metadata": {},
     "output_type": "execute_result"
    }
   ],
   "source": [
    "Joint3d[2][3]\n",
    "# generation of the axis of  'next' state\n",
    "#bx = lambda pp : np.random.binomial(len(Joint3d[:][0][0])-1,pp)"
   ]
  },
  {
   "cell_type": "code",
   "execution_count": 132,
   "metadata": {},
   "outputs": [
    {
     "data": {
      "text/plain": [
       "array([0.0032, 0.0146, 0.0662, 0.0034])"
      ]
     },
     "execution_count": 132,
     "metadata": {},
     "output_type": "execute_result"
    }
   ],
   "source": [
    "Freq[2][3]"
   ]
  },
  {
   "cell_type": "code",
   "execution_count": null,
   "metadata": {},
   "outputs": [],
   "source": []
  },
  {
   "cell_type": "markdown",
   "metadata": {},
   "source": [
    "# ---------------------------------------------------------------"
   ]
  },
  {
   "cell_type": "code",
   "execution_count": 125,
   "metadata": {},
   "outputs": [],
   "source": [
    "# the simplest case : 2-d\n",
    "# joint distribution matrix :: this case is the simplest one : 2 X 2 \n",
    "Joint = np.array(\n",
    "    [[0.6,0.1],  # X = 0 \n",
    "     [0.15,0.15] # X = 1\n",
    "    ])"
   ]
  },
  {
   "cell_type": "code",
   "execution_count": 126,
   "metadata": {},
   "outputs": [],
   "source": [
    "# marginal distributions\n",
    "mY = lambda i,j : sum(j[:,i])\n",
    "mX = lambda i,j : sum(j[i])"
   ]
  },
  {
   "cell_type": "code",
   "execution_count": 127,
   "metadata": {},
   "outputs": [
    {
     "data": {
      "text/plain": [
       "np.float64(0.3)"
      ]
     },
     "execution_count": 127,
     "metadata": {},
     "output_type": "execute_result"
    }
   ],
   "source": [
    "mX(1,Joint)"
   ]
  },
  {
   "cell_type": "code",
   "execution_count": 128,
   "metadata": {},
   "outputs": [
    {
     "data": {
      "text/plain": [
       "np.float64(0.5)"
      ]
     },
     "execution_count": 128,
     "metadata": {},
     "output_type": "execute_result"
    }
   ],
   "source": [
    "Joint[1,0]/mX(1,Joint)"
   ]
  },
  {
   "cell_type": "code",
   "execution_count": 129,
   "metadata": {},
   "outputs": [],
   "source": [
    "# let's check the simple-sample of Bernoulli process\n",
    "bernoulli = lambda pp : np.random.binomial(1,pp)"
   ]
  },
  {
   "cell_type": "code",
   "execution_count": 130,
   "metadata": {},
   "outputs": [
    {
     "data": {
      "text/plain": [
       "1"
      ]
     },
     "execution_count": 130,
     "metadata": {},
     "output_type": "execute_result"
    }
   ],
   "source": [
    "bernoulli(mY(0,Joint))"
   ]
  },
  {
   "cell_type": "code",
   "execution_count": 131,
   "metadata": {},
   "outputs": [],
   "source": [
    "# sampling X ;\n",
    "# two-dimmentional \n",
    "def smplX_Ygiven( yy,j ) :\n",
    "    xx = bernoulli(j[1,yy]/mY(yy,j))\n",
    "    return xx\n",
    "# -------------------\n",
    "# sampling Y :\n",
    "def smplY_Xgiven( xx,j ) :\n",
    "    yy = bernoulli(j[xx,1]/mX(xx,j))\n",
    "    return yy"
   ]
  },
  {
   "cell_type": "code",
   "execution_count": 132,
   "metadata": {},
   "outputs": [
    {
     "data": {
      "text/plain": [
       "0"
      ]
     },
     "execution_count": 132,
     "metadata": {},
     "output_type": "execute_result"
    }
   ],
   "source": [
    "smplY_Xgiven(0,Joint)"
   ]
  },
  {
   "cell_type": "code",
   "execution_count": 133,
   "metadata": {},
   "outputs": [],
   "source": [
    "def gibbs2d(n,pp,j): # n : iteration time, pp : initial state\n",
    "    # when invoking this function, it is supposed that \n",
    "    # the table of joint distribution is to be defined. \n",
    "    # n is the iteration time. returns the array of \n",
    "    # generated data\n",
    "    # pp : initial state\n",
    "    # j : 2-dimmentional joint matrix\n",
    "    nn = n\n",
    "    r=[]\n",
    "    r.append(pp)\n",
    "    #y = bernoulli(0.5)\n",
    "    for i in range(nn): \n",
    "        x = smplX_Ygiven(r[i][1],j)\n",
    "        y = smplY_Xgiven(x,j)\n",
    "        #print(x)\n",
    "        r.append([x,y])\n",
    "    return r        \n"
   ]
  },
  {
   "cell_type": "code",
   "execution_count": 134,
   "metadata": {},
   "outputs": [],
   "source": [
    "result = gibbs2d(1000,[0,1],Joint)"
   ]
  },
  {
   "cell_type": "code",
   "execution_count": 213,
   "metadata": {},
   "outputs": [],
   "source": [
    "#result"
   ]
  },
  {
   "cell_type": "code",
   "execution_count": 135,
   "metadata": {},
   "outputs": [],
   "source": [
    "freq = np.array([\n",
    "    [0,0],\n",
    "    [0,0]\n",
    "])\n",
    "for i in range(len(result)):\n",
    "    if result[i] == [0,0] :\n",
    "        freq[0,0]+=1\n",
    "    elif result[i] == [0,1] : \n",
    "        freq[0,1]+=1\n",
    "    elif result[i] == [1,0] :\n",
    "        freq[1,0]+=1\n",
    "    else :\n",
    "        freq[1,1]+=1"
   ]
  },
  {
   "cell_type": "code",
   "execution_count": 136,
   "metadata": {},
   "outputs": [
    {
     "data": {
      "text/plain": [
       "np.int64(1001)"
      ]
     },
     "execution_count": 136,
     "metadata": {},
     "output_type": "execute_result"
    }
   ],
   "source": [
    "np.sum(freq)"
   ]
  },
  {
   "cell_type": "code",
   "execution_count": 137,
   "metadata": {},
   "outputs": [],
   "source": [
    "freq = freq/np.sum(freq)"
   ]
  },
  {
   "cell_type": "code",
   "execution_count": 138,
   "metadata": {},
   "outputs": [
    {
     "data": {
      "text/plain": [
       "array([[0.60739261, 0.08391608],\n",
       "       [0.16183816, 0.14685315]])"
      ]
     },
     "execution_count": 138,
     "metadata": {},
     "output_type": "execute_result"
    }
   ],
   "source": [
    "freq"
   ]
  }
 ],
 "metadata": {
  "kernelspec": {
   "display_name": "Python 3 (ipykernel)",
   "language": "python",
   "name": "python3"
  },
  "language_info": {
   "codemirror_mode": {
    "name": "ipython",
    "version": 3
   },
   "file_extension": ".py",
   "mimetype": "text/x-python",
   "name": "python",
   "nbconvert_exporter": "python",
   "pygments_lexer": "ipython3",
   "version": "3.11.2"
  }
 },
 "nbformat": 4,
 "nbformat_minor": 4
}
